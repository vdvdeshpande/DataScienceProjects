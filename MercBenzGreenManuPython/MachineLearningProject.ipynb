{
 "cells": [
  {
   "cell_type": "code",
   "execution_count": 1,
   "metadata": {},
   "outputs": [],
   "source": [
    "import pandas as pd\n",
    "from sklearn.preprocessing import LabelEncoder,MinMaxScaler,StandardScaler\n",
    "from sklearn.decomposition import PCA\n",
    "from sklearn.metrics import accuracy_score,mean_squared_error,r2_score, mean_absolute_error\n",
    "from sklearn.model_selection import train_test_split\n",
    "from math import sqrt\n",
    "import numpy as np\n",
    "import xgboost"
   ]
  },
  {
   "cell_type": "code",
   "execution_count": 2,
   "metadata": {},
   "outputs": [],
   "source": [
    "from sklearn.model_selection import GridSearchCV"
   ]
  },
  {
   "cell_type": "code",
   "execution_count": 3,
   "metadata": {},
   "outputs": [
    {
     "name": "stdout",
     "output_type": "stream",
     "text": [
      "(4209, 377)\n",
      "(4209, 376)\n"
     ]
    }
   ],
   "source": [
    "merc_train_data = pd.read_csv('/home/labsuser/Datasets/train.csv',index_col=0)\n",
    "print(merc_train_data.shape)\n",
    "\n",
    "merc_test_data = pd.read_csv('/home/labsuser/Datasets/test.csv',index_col=0)\n",
    "print(merc_test_data.shape)"
   ]
  },
  {
   "cell_type": "code",
   "execution_count": 4,
   "metadata": {},
   "outputs": [
    {
     "data": {
      "text/plain": [
       "y       0\n",
       "X0      0\n",
       "X1      0\n",
       "X2      0\n",
       "X3      0\n",
       "       ..\n",
       "X380    0\n",
       "X382    0\n",
       "X383    0\n",
       "X384    0\n",
       "X385    0\n",
       "Length: 377, dtype: int64"
      ]
     },
     "execution_count": 4,
     "metadata": {},
     "output_type": "execute_result"
    }
   ],
   "source": [
    "merc_train_data.isnull().sum()\n",
    "merc_train_data.isna().sum()"
   ]
  },
  {
   "cell_type": "markdown",
   "metadata": {},
   "source": [
    "## Label Encoding - Train Test"
   ]
  },
  {
   "cell_type": "code",
   "execution_count": 5,
   "metadata": {},
   "outputs": [],
   "source": [
    "#Categorical Variables Split\n",
    "categorical_columns = ['X0','X1','X2','X3','X4','X5','X6','X8']\n",
    "cat_subset_train = pd.DataFrame(merc_train_data,columns=categorical_columns)\n",
    "numeric_subset_train = pd.DataFrame(merc_train_data,columns = merc_train_data.drop(categorical_columns,axis = 1).columns)\n",
    "\n",
    "#Label Encoder\n",
    "encoder = LabelEncoder()\n",
    "cat_subset_train_encoded = cat_subset_train\n",
    "\n",
    "for i in range(0,len(cat_subset_train_encoded.columns)):\n",
    "    if(i==7):\n",
    "        i+=1\n",
    "    encoder.fit(cat_subset_train_encoded['X'+str(i)])\n",
    "    #print(encoder.classes_ + \"for the column - \"+cat_subset.columns[i])\n",
    "    cat_subset_train_encoded['X'+str(i)] = encoder.transform(cat_subset_train_encoded['X'+str(i)])\n",
    "\n",
    "\n",
    "final_train_data = pd.concat([cat_subset_train_encoded,numeric_subset_train],axis=1)\n",
    "y_train = final_train_data['y']\n",
    "X_train = final_train_data.drop('y',axis=1)\n"
   ]
  },
  {
   "cell_type": "code",
   "execution_count": 6,
   "metadata": {},
   "outputs": [],
   "source": [
    "#------------------------TEST ------------------\n",
    "\n",
    "cat_subset_test = pd.DataFrame(merc_test_data,columns=categorical_columns)\n",
    "numeric_subset_test = pd.DataFrame(merc_test_data,columns = merc_test_data.drop(categorical_columns,axis = 1).columns)\n",
    "\n",
    "#Label Encoder\n",
    "encoder_test = LabelEncoder()\n",
    "cat_subset_test_encoded = cat_subset_test\n",
    "\n",
    "for i in range(0,len(cat_subset_test_encoded.columns)):\n",
    "    if(i==7):\n",
    "        i+=1\n",
    "    encoder_test.fit(cat_subset_test_encoded['X'+str(i)])\n",
    "    #print(encoder.classes_ + \"for the column - \"+cat_subset.columns[i])\n",
    "    cat_subset_test_encoded['X'+str(i)] = encoder_test.transform(cat_subset_test_encoded['X'+str(i)])\n",
    "\n",
    "\n",
    "final_test_data = pd.concat([cat_subset_test_encoded,numeric_subset_test],axis=1)\n",
    "X_test_validation = final_test_data"
   ]
  },
  {
   "cell_type": "markdown",
   "metadata": {},
   "source": [
    "## Removing variables with 0 variance"
   ]
  },
  {
   "cell_type": "code",
   "execution_count": 7,
   "metadata": {},
   "outputs": [
    {
     "name": "stdout",
     "output_type": "stream",
     "text": [
      "['X11', 'X93', 'X107', 'X233', 'X235', 'X268', 'X289', 'X290', 'X293', 'X297', 'X330', 'X347']\n",
      "Total correlated columns are 128 \n",
      "\n",
      "Total variance 0 to drop 12\n",
      "Shape of Data after dropping features -  (4209, 236)\n",
      "Shape of Test Data after dropping features -  (4209, 236)\n"
     ]
    }
   ],
   "source": [
    "numeric_data_train = X_train.loc[:,'X10':]\n",
    "\n",
    "\n",
    "to_drop = []\n",
    "for i in numeric_data_train.columns:\n",
    " \n",
    "    if(numeric_data_train[i].var() == float(0)):\n",
    "        to_drop.append(i)\n",
    "        \n",
    "print(to_drop)\n",
    "numeric_data_train = X_train.drop(to_drop,axis=1)\n",
    "\n",
    "\n",
    "# Create correlation matrix\n",
    "corr_matrix = numeric_data_train.corr().abs()\n",
    "\n",
    "# Select upper triangle of correlation matrix\n",
    "upper = corr_matrix.where(np.triu(np.ones(corr_matrix.shape), k=1).astype(np.bool))\n",
    "\n",
    "# Find features with correlation greater than 0.8\n",
    "to_drop_corr = [column for column in upper.columns if any(upper[column] > 0.8)]\n",
    "\n",
    "print('Total correlated columns are', len(to_drop_corr),'\\n')\n",
    "print('Total variance 0 to drop', len(to_drop))\n",
    "\n",
    "to_drop_final = np.concatenate([to_drop,to_drop_corr])\n",
    "X_train = X_train.drop(to_drop_final,axis=1)\n",
    "X_test_validation = X_test_validation.drop(to_drop_final,axis=1)\n",
    "print('Shape of Data after dropping features - ',X_train.shape)\n",
    "print('Shape of Test Data after dropping features - ',X_test_validation.shape)"
   ]
  },
  {
   "cell_type": "code",
   "execution_count": 8,
   "metadata": {},
   "outputs": [
    {
     "name": "stdout",
     "output_type": "stream",
     "text": [
      "(4209, 236)\n",
      "(4209,)\n",
      "(4209, 236)\n"
     ]
    }
   ],
   "source": [
    "print(X_train.shape)\n",
    "print(y_train.shape)\n",
    "print(X_test_validation.shape)"
   ]
  },
  {
   "cell_type": "markdown",
   "metadata": {},
   "source": [
    "## PCA"
   ]
  },
  {
   "cell_type": "code",
   "execution_count": 9,
   "metadata": {},
   "outputs": [
    {
     "data": {
      "text/plain": [
       "PCA(n_components=4)"
      ]
     },
     "execution_count": 9,
     "metadata": {},
     "output_type": "execute_result"
    }
   ],
   "source": [
    "X_train, X_test, y_train, y_test= train_test_split(X_train,y_train,random_state=120,train_size=0.8)\n",
    "\n",
    "pca = PCA(n_components=4)\n",
    "          \n",
    "pca.fit(X_train)"
   ]
  },
  {
   "cell_type": "code",
   "execution_count": 10,
   "metadata": {},
   "outputs": [],
   "source": [
    "X_train_trans = pca.transform(X_train)"
   ]
  },
  {
   "cell_type": "code",
   "execution_count": 11,
   "metadata": {},
   "outputs": [
    {
     "data": {
      "text/plain": [
       "(3367, 4)"
      ]
     },
     "execution_count": 11,
     "metadata": {},
     "output_type": "execute_result"
    }
   ],
   "source": [
    "X_train_trans.shape"
   ]
  },
  {
   "cell_type": "code",
   "execution_count": 12,
   "metadata": {},
   "outputs": [],
   "source": [
    "X_test_trans = pca.transform(X_test)"
   ]
  },
  {
   "cell_type": "code",
   "execution_count": 13,
   "metadata": {},
   "outputs": [
    {
     "data": {
      "text/plain": [
       "(842, 4)"
      ]
     },
     "execution_count": 13,
     "metadata": {},
     "output_type": "execute_result"
    }
   ],
   "source": [
    "X_test_trans.shape"
   ]
  },
  {
   "cell_type": "markdown",
   "metadata": {},
   "source": [
    "## XGBoost GridSearch"
   ]
  },
  {
   "cell_type": "code",
   "execution_count": 14,
   "metadata": {},
   "outputs": [],
   "source": [
    "xgb = xgboost.XGBRegressor()"
   ]
  },
  {
   "cell_type": "code",
   "execution_count": 15,
   "metadata": {},
   "outputs": [],
   "source": [
    "parameters ={ 'nthread': [10], 'objective': ['reg:linear'], 'learning_rate': [0.3,0.4,0.5], 'max_depth': [5,6,7], 'n_estimators': [100,300,500]}"
   ]
  },
  {
   "cell_type": "code",
   "execution_count": 16,
   "metadata": {},
   "outputs": [],
   "source": [
    "xgb_grid = GridSearchCV(xgb,parameters,cv=2,n_jobs=10,verbose=True)"
   ]
  },
  {
   "cell_type": "code",
   "execution_count": 17,
   "metadata": {},
   "outputs": [
    {
     "name": "stdout",
     "output_type": "stream",
     "text": [
      "Fitting 2 folds for each of 27 candidates, totalling 54 fits\n",
      "[16:06:23] WARNING: /workspace/src/objective/regression_obj.cu:167: reg:linear is now deprecated in favor of reg:squarederror.\n"
     ]
    },
    {
     "data": {
      "text/plain": [
       "GridSearchCV(cv=2,\n",
       "             estimator=XGBRegressor(base_score=None, booster=None,\n",
       "                                    colsample_bylevel=None,\n",
       "                                    colsample_bynode=None,\n",
       "                                    colsample_bytree=None, gamma=None,\n",
       "                                    gpu_id=None, importance_type='gain',\n",
       "                                    interaction_constraints=None,\n",
       "                                    learning_rate=None, max_delta_step=None,\n",
       "                                    max_depth=None, min_child_weight=None,\n",
       "                                    missing=nan, monotone_constraints=None,\n",
       "                                    n_estimators=100, n_jobs=None,\n",
       "                                    num_parallel_tree=None, random_state=None,\n",
       "                                    reg_alpha=None, reg_lambda=None,\n",
       "                                    scale_pos_weight=None, subsample=None,\n",
       "                                    tree_method=None, validate_parameters=False,\n",
       "                                    verbosity=None),\n",
       "             n_jobs=10,\n",
       "             param_grid={'learning_rate': [0.3, 0.4, 0.5],\n",
       "                         'max_depth': [5, 6, 7],\n",
       "                         'n_estimators': [100, 300, 500], 'nthread': [10],\n",
       "                         'objective': ['reg:linear']},\n",
       "             verbose=True)"
      ]
     },
     "execution_count": 17,
     "metadata": {},
     "output_type": "execute_result"
    }
   ],
   "source": [
    "xgb_grid.fit(X_train,y_train)"
   ]
  },
  {
   "cell_type": "code",
   "execution_count": 18,
   "metadata": {},
   "outputs": [
    {
     "name": "stdout",
     "output_type": "stream",
     "text": [
      "{'learning_rate': 0.3, 'max_depth': 5, 'n_estimators': 100, 'nthread': 10, 'objective': 'reg:linear'}\n"
     ]
    }
   ],
   "source": [
    "print(xgb_grid.best_params_)"
   ]
  },
  {
   "cell_type": "markdown",
   "metadata": {},
   "source": [
    "## Using Best Params to fit the Final Model"
   ]
  },
  {
   "cell_type": "code",
   "execution_count": 19,
   "metadata": {},
   "outputs": [],
   "source": [
    "xgb = xgboost.XGBRegressor(max_depth=5,n_estimators=100,n_thread=10,learning_rate=0.3)"
   ]
  },
  {
   "cell_type": "code",
   "execution_count": 20,
   "metadata": {},
   "outputs": [
    {
     "data": {
      "text/plain": [
       "XGBRegressor(base_score=0.5, booster=None, colsample_bylevel=1,\n",
       "             colsample_bynode=1, colsample_bytree=1, gamma=0, gpu_id=-1,\n",
       "             importance_type='gain', interaction_constraints=None,\n",
       "             learning_rate=0.3, max_delta_step=0, max_depth=5,\n",
       "             min_child_weight=1, missing=nan, monotone_constraints=None,\n",
       "             n_estimators=100, n_jobs=0, n_thread=10, num_parallel_tree=1,\n",
       "             random_state=0, reg_alpha=0, reg_lambda=1, scale_pos_weight=1,\n",
       "             subsample=1, tree_method=None, validate_parameters=False,\n",
       "             verbosity=None)"
      ]
     },
     "execution_count": 20,
     "metadata": {},
     "output_type": "execute_result"
    }
   ],
   "source": [
    "xgb.fit(X_train,y_train)"
   ]
  },
  {
   "cell_type": "code",
   "execution_count": 21,
   "metadata": {},
   "outputs": [],
   "source": [
    "y_preds = xgb.predict(X_test)"
   ]
  },
  {
   "cell_type": "code",
   "execution_count": 27,
   "metadata": {},
   "outputs": [
    {
     "name": "stdout",
     "output_type": "stream",
     "text": [
      "RMSE : 8.714052694250595\n",
      "Absolute Error:5.7536925968704775\n"
     ]
    }
   ],
   "source": [
    "print(\"RMSE : \"+str(sqrt(mean_squared_error(y_test,y_preds))))\n",
    "print(\"Absolute Error:\"+str(mean_absolute_error(y_test,y_preds)))"
   ]
  },
  {
   "cell_type": "markdown",
   "metadata": {},
   "source": [
    "## Predictions on Validation Data"
   ]
  },
  {
   "cell_type": "code",
   "execution_count": 23,
   "metadata": {},
   "outputs": [],
   "source": [
    "y_preds_validation = xgb.predict(X_test_validation)"
   ]
  },
  {
   "cell_type": "code",
   "execution_count": 24,
   "metadata": {},
   "outputs": [
    {
     "data": {
      "text/plain": [
       "array([ 90.50865 , 106.822655,  89.77226 , ...,  90.94823 , 112.84172 ,\n",
       "        94.79426 ], dtype=float32)"
      ]
     },
     "execution_count": 24,
     "metadata": {},
     "output_type": "execute_result"
    }
   ],
   "source": [
    "y_preds_validation"
   ]
  },
  {
   "cell_type": "code",
   "execution_count": null,
   "metadata": {},
   "outputs": [],
   "source": []
  }
 ],
 "metadata": {
  "kernelspec": {
   "display_name": "Python 3",
   "language": "python",
   "name": "python3"
  },
  "language_info": {
   "codemirror_mode": {
    "name": "ipython",
    "version": 3
   },
   "file_extension": ".py",
   "mimetype": "text/x-python",
   "name": "python",
   "nbconvert_exporter": "python",
   "pygments_lexer": "ipython3",
   "version": "3.7.6"
  }
 },
 "nbformat": 4,
 "nbformat_minor": 4
}
