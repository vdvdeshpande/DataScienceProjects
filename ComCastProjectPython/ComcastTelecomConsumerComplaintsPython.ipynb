{
 "cells": [
  {
   "cell_type": "code",
   "execution_count": 93,
   "metadata": {},
   "outputs": [
    {
     "name": "stdout",
     "output_type": "stream",
     "text": [
      "Aggregated Data with total & Percentage columns ->\n",
      " Cstatus             Closed  Open  Total  Resolved Complaints %\n",
      "Received Via                                                  \n",
      "Customer Care Call     864   255   1119              77.211796\n",
      "Internet               843   262   1105              76.289593\n",
      "Percentage of Closed complaints via - Customer Care Call is - 77%\n",
      "Percentage of Closed complaints via - Internet is - 76%\n"
     ]
    }
   ],
   "source": [
    "import pandas as pd\n",
    "import datetime as dt \n",
    "import numpy as np\n",
    "import matplotlib.pyplot as plt\n",
    "\n",
    "cust_data = pd.read_csv(\"/home/labsuser/Datasets/Comcast_telecom_complaints_data.csv\")\n",
    "cust_data.head(10)\n",
    "cust_data['Date'] = pd.to_datetime(cust_data['Date'],format=\"%d-%m-%y\")\n",
    "cust_data['Month'] = cust_data['Date'].dt.month\n",
    "\n",
    "#Month wise data trend chart\n",
    "\n",
    "plt.plot(cust_data.groupby(['Month']).count()['Ticket #'],label=\"Count of Tickets\",marker='o')\n",
    "plt.xlabel('Month')\n",
    "plt.ylabel('Count')\n",
    "plt.xticks(np.arange(0,14,2))\n",
    "plt.legend()\n",
    "\n",
    "#Date wise data trend chart\n",
    "plt.figure(0)\n",
    "plt.figure(figsize=(100,10))\n",
    "plt.plot(cust_data.groupby(['Date_month_year']).count()['Ticket #'],label=\"Count of Tickets daily\",marker='o')\n",
    "plt.xlabel('Date')\n",
    "plt.ylabel('Count')\n",
    "plt.legend()\n",
    "plt.savefig(\"DateChart.jpg\")\n",
    "\n",
    "print(\"Grouped_data-> \\n\",cust_data.groupby(['Customer Complaint']).count().sort_values('Ticket #',ascending=False)['Ticket #'])\n",
    "print(\"As per the counts most of the complaints are of the category - Comcast. Some of them are related to Comcast internet and even billing.\")\n",
    "\n",
    "\n",
    "\n",
    "\n",
    "#Creating new Status variable for Open and Closed Complaints\n",
    "cust_data.loc[cust_data['Status'].str.contains('Open') | cust_data['Status'].str.contains('Pending'), 'Cstatus'] = 'Open'\n",
    "cust_data.loc[cust_data['Status'].str.contains('Solved') | cust_data['Status'].str.contains('Closed'), 'Cstatus'] = 'Closed'\n",
    "#cust_data[['Cstatus','Status']].head(10)\n",
    "\n",
    "#Statewise Open and closed complaints bar graph. Blue -> Open and Orange -> Closed\n",
    "aggregated = pd.crosstab(cust_data['State'],cust_data['Cstatus'])\n",
    "aggregated_new = pd.DataFrame(aggregated)\n",
    "#print(\"Aggregated Data -> \\n\",aggregated_new.head(10))\n",
    "plt.figure(figsize=(100,30))\n",
    "plt.bar(aggregated_new.index,aggregated_new.Open,label='Open')\n",
    "plt.bar(aggregated_new.index,aggregated_new.Closed,bottom=aggregated_new.Open,label='Closed')\n",
    "plt.legend()\n",
    "plt.savefig(\"StackedBarChart.jpg\")\n",
    "\n",
    "aggregated_new['Total'] = aggregated_new.sum(axis=1)\n",
    "aggregated_new['Unresolved Complaints %'] = (aggregated_new.Open/aggregated_new.Total) *100\n",
    "\n",
    "print(\"Aggregated Data with Total and Percentage data -> \\n\",aggregated_new.head(10))\n",
    "highest_comp = aggregated_new[aggregated_new.Total == aggregated_new.Total.max()]['Total']\n",
    "print(\"State with max number of complaints : \", aggregated_new[aggregated_new.Total == aggregated_new.Total.max()].index.values,\"\\nNumber of complaints -> \\n\",highest_comp)\n",
    "highest_perc = aggregated_new[aggregated_new['Unresolved Complaints %'] == aggregated_new['Unresolved Complaints %'].max()]['Unresolved Complaints %']\n",
    "print(\"State with max percentage of unresolved complaints  : \", aggregated_new[aggregated_new['Unresolved Complaints %'] == aggregated_new['Unresolved Complaints %'].max()].index.values, \"\\nPercentage -> \\n\",highest_perc )\n",
    "\n",
    "\n",
    "\n",
    "aggregated_recvd_via = pd.crosstab(cust_data['Received Via'],cust_data['Cstatus'])\n",
    "aggregated_recvd = pd.DataFrame(aggregated_recvd_via)\n",
    "aggregated_recvd['Total'] = aggregated_recvd_via.sum(axis=1)\n",
    "aggregated_recvd['Resolved Complaints %'] = (aggregated_recvd['Closed']/aggregated_recvd['Total']) *100\n",
    "print(\"Aggregated Data with total & Percentage columns ->\\n\",aggregated_recvd)\n",
    "\n",
    "print(\"Percentage of Closed complaints via - Customer Care Call is - \" + str(int(aggregated_recvd.loc['Customer Care Call']['Resolved Complaints %'])) + \"%\")\n",
    "print(\"Percentage of Closed complaints via - Internet is - \" + str(int(aggregated_recvd.loc['Internet']['Resolved Complaints %'])) + \"%\")\n",
    "\n"
   ]
  }
 ],
 "metadata": {
  "kernelspec": {
   "display_name": "Python 3",
   "language": "python",
   "name": "python3"
  },
  "language_info": {
   "codemirror_mode": {
    "name": "ipython",
    "version": 3
   },
   "file_extension": ".py",
   "mimetype": "text/x-python",
   "name": "python",
   "nbconvert_exporter": "python",
   "pygments_lexer": "ipython3",
   "version": "3.7.6"
  }
 },
 "nbformat": 4,
 "nbformat_minor": 4
}
